{
  "nbformat": 4,
  "nbformat_minor": 0,
  "metadata": {
    "colab": {
      "name": "tidyverse_tutorial.ipynb",
      "provenance": [],
      "collapsed_sections": [],
      "authorship_tag": "ABX9TyOfsvpD+AFYaBkaaxgOFzLE",
      "include_colab_link": true
    },
    "kernelspec": {
      "name": "python3",
      "display_name": "Python 3"
    },
    "language_info": {
      "name": "python"
    }
  },
  "cells": [
    {
      "cell_type": "markdown",
      "metadata": {
        "id": "view-in-github",
        "colab_type": "text"
      },
      "source": [
        "<a href=\"https://colab.research.google.com/github/mikeniemant/QS_shiny/blob/master/tidyverse_tutorial.ipynb\" target=\"_parent\"><img src=\"https://colab.research.google.com/assets/colab-badge.svg\" alt=\"Open In Colab\"/></a>"
      ]
    },
    {
      "cell_type": "markdown",
      "metadata": {
        "id": "NSDMp3ZnCVeo"
      },
      "source": [
        "# An introduction to Tidyverse\n",
        "\n",
        "In this tutorial, we will explore the first four steps of the Tidyverse data science workflow:\n",
        "1. Import\n",
        "2. Tidy\n",
        "3. Transform\n",
        "4. Visualise\n",
        "5. Model\n",
        "\n",
        "Today we will be working with an electronic health records (EHR) dataset. Don't worry about privacy related information, this is synthetic data based on real summary statistics / values from the UMCU.\n",
        "\n",
        "We will use R in this Google Colab environment. Before we can start, we first have to do three things:\n",
        "- initiliaze R\n",
        "- install tidyverse"
      ]
    },
    {
      "cell_type": "markdown",
      "metadata": {
        "id": "Klww9U6tCfJJ"
      },
      "source": [
        "## 1. Initialize work environment\n",
        "### 1.1. Initialize R\n",
        "To run R in this Python environment, we need to load the `rpy2` library. Either click on the play button or put your cursor in the chunk of code below, and press (CMD + ENTER)."
      ]
    },
    {
      "cell_type": "code",
      "metadata": {
        "id": "0WGMX69M_pY9",
        "colab": {
          "base_uri": "https://localhost:8080/"
        },
        "outputId": "b492b09b-4b19-4406-a118-d7ce5c4ab16f"
      },
      "source": [
        "%load_ext rpy2.ipython"
      ],
      "execution_count": null,
      "outputs": [
        {
          "output_type": "stream",
          "name": "stdout",
          "text": [
            "The rpy2.ipython extension is already loaded. To reload it, use:\n",
            "  %reload_ext rpy2.ipython\n"
          ]
        }
      ]
    },
    {
      "cell_type": "markdown",
      "source": [
        "Run the following command to test whether R code is executed."
      ],
      "metadata": {
        "id": "OkPTBkJaxMkG"
      }
    },
    {
      "cell_type": "code",
      "metadata": {
        "colab": {
          "base_uri": "https://localhost:8080/"
        },
        "id": "EncMACWo_wce",
        "outputId": "1a5f9217-49df-4637-d896-12b7df00dd4f"
      },
      "source": [
        "%%R\n",
        "x <- seq(1,5)\n",
        "x"
      ],
      "execution_count": null,
      "outputs": [
        {
          "output_type": "stream",
          "name": "stdout",
          "text": [
            "[1] 1 2 3 4 5\n"
          ]
        }
      ]
    },
    {
      "cell_type": "markdown",
      "source": [
        "As you can see, Google Colab is instructed to run R code when the 'code chunk' (or 'code cell') starts with the following statement: '%%R'. Otherwise, it will execute Python code.\n",
        "\n",
        "Feel free to add more chunks of code or text in this notebook, by using one of the following options:\n",
        "- hover your mouse either above or above a chunk, and click on 'code' or 'text'\n",
        "- In the menu bar, blick on 'Insert', and then on 'Code cell' / 'Text cell'"
      ],
      "metadata": {
        "id": "NMyMpwMj5TFm"
      }
    },
    {
      "cell_type": "markdown",
      "source": [
        "### 1.2 Install Tidyverse\n",
        "Google Colab allows us to install our own packages. Normally it takes quite a while before the complete `Tidyverse` meta package is installed, apparently Colab has it already pre-installed somewhere. Lucky us!"
      ],
      "metadata": {
        "id": "xBBAGkkx9rMW"
      }
    },
    {
      "cell_type": "code",
      "metadata": {
        "id": "TFdIIRpf_0sr",
        "colab": {
          "base_uri": "https://localhost:8080/"
        },
        "outputId": "c1e25dcd-7298-419c-8643-52c699fa5417"
      },
      "source": [
        "%%R\n",
        "install.packages(\"tidyverse\")"
      ],
      "execution_count": null,
      "outputs": [
        {
          "output_type": "stream",
          "name": "stderr",
          "text": [
            "R[write to console]: Installing package into ‘/usr/local/lib/R/site-library’\n",
            "(as ‘lib’ is unspecified)\n",
            "\n",
            "R[write to console]: trying URL 'https://cran.rstudio.com/src/contrib/tidyverse_1.3.1.tar.gz'\n",
            "\n",
            "R[write to console]: Content type 'application/x-gzip'\n",
            "R[write to console]:  length 702779 bytes (686 KB)\n",
            "\n",
            "R[write to console]: =\n",
            "R[write to console]: =\n",
            "R[write to console]: =\n",
            "R[write to console]: =\n",
            "R[write to console]: =\n",
            "R[write to console]: =\n",
            "R[write to console]: =\n",
            "R[write to console]: =\n",
            "R[write to console]: =\n",
            "R[write to console]: =\n",
            "R[write to console]: =\n",
            "R[write to console]: =\n",
            "R[write to console]: =\n",
            "R[write to console]: =\n",
            "R[write to console]: =\n",
            "R[write to console]: =\n",
            "R[write to console]: =\n",
            "R[write to console]: =\n",
            "R[write to console]: =\n",
            "R[write to console]: =\n",
            "R[write to console]: =\n",
            "R[write to console]: =\n",
            "R[write to console]: =\n",
            "R[write to console]: =\n",
            "R[write to console]: =\n",
            "R[write to console]: =\n",
            "R[write to console]: =\n",
            "R[write to console]: =\n",
            "R[write to console]: =\n",
            "R[write to console]: =\n",
            "R[write to console]: =\n",
            "R[write to console]: =\n",
            "R[write to console]: =\n",
            "R[write to console]: =\n",
            "R[write to console]: =\n",
            "R[write to console]: =\n",
            "R[write to console]: =\n",
            "R[write to console]: =\n",
            "R[write to console]: =\n",
            "R[write to console]: =\n",
            "R[write to console]: =\n",
            "R[write to console]: =\n",
            "R[write to console]: =\n",
            "R[write to console]: =\n",
            "R[write to console]: =\n",
            "R[write to console]: =\n",
            "R[write to console]: =\n",
            "R[write to console]: =\n",
            "R[write to console]: =\n",
            "R[write to console]: =\n",
            "R[write to console]: \n",
            "\n",
            "R[write to console]: downloaded 686 KB\n",
            "\n",
            "\n",
            "R[write to console]: \n",
            "\n",
            "R[write to console]: \n",
            "R[write to console]: The downloaded source packages are in\n",
            "\t‘/tmp/RtmppBM9Th/downloaded_packages’\n",
            "R[write to console]: \n",
            "R[write to console]: \n",
            "\n"
          ]
        }
      ]
    },
    {
      "cell_type": "markdown",
      "metadata": {
        "id": "5NwIdz99B9fJ"
      },
      "source": [
        "Import the `tidyverse` package and test it by running the following chunk."
      ]
    },
    {
      "cell_type": "code",
      "metadata": {
        "colab": {
          "base_uri": "https://localhost:8080/"
        },
        "id": "mplYVuD5_-zn",
        "outputId": "d0dc45a8-963b-432e-99a4-36462965a17a"
      },
      "source": [
        "%%R\n",
        "library(tidyverse)\n",
        "mtcars %>% \n",
        "  nrow()"
      ],
      "execution_count": null,
      "outputs": [
        {
          "output_type": "stream",
          "name": "stdout",
          "text": [
            "[1] 32\n"
          ]
        }
      ]
    },
    {
      "cell_type": "markdown",
      "source": [
        "`32` as output? Perfect!"
      ],
      "metadata": {
        "id": "aOJjowYp-Z4x"
      }
    },
    {
      "cell_type": "markdown",
      "source": [
        "## 2. Tidyverse data science workflow\n",
        "### 2.1 Import dataset\n",
        "Now we will start importing the dataset from a Github repository I created: https://github.com/mikeniemant/ehr_tutorial.\n",
        "\n",
        "First, have a look at the two files in the repo:\n",
        "- ehr.csv: this is the dataset\n",
        "- data_dic.csv: this is dictionary of all variables"
      ],
      "metadata": {
        "id": "ZAfp_kWW4tv3"
      }
    },
    {
      "cell_type": "markdown",
      "source": [
        "We can directly download the EHR data from the Github repo with the `read_csv` function from the `readr` package."
      ],
      "metadata": {
        "id": "1i2Z2gLQ8lXa"
      }
    },
    {
      "cell_type": "code",
      "source": [
        "%%R\n",
        "dat <- read_csv(\"https://github.com/mikeniemant/ehr_tutorial/raw/main/ehr.csv\")"
      ],
      "metadata": {
        "colab": {
          "base_uri": "https://localhost:8080/"
        },
        "id": "2RVObroW4suB",
        "outputId": "9f19785f-02c1-4b8e-8807-06faca0ba3ce"
      },
      "execution_count": null,
      "outputs": [
        {
          "output_type": "stream",
          "name": "stdout",
          "text": [
            "Rows: 384 Columns: 18\n",
            "── Column specification ────────────────────────────────────────────────────────\n",
            "Delimiter: \",\"\n",
            "chr   (1): sx\n",
            "dbl  (15): study_id, outcome, age, hr, sbp, rr, scr, white_blood_cell_count,...\n",
            "date  (1): visit_date\n",
            "time  (1): visit_time\n",
            "\n",
            "ℹ Use `spec()` to retrieve the full column specification for this data.\n",
            "ℹ Specify the column types or set `show_col_types = FALSE` to quiet this message.\n"
          ]
        }
      ]
    },
    {
      "cell_type": "markdown",
      "source": [
        "The `read_csv` automatically assigns a class to each column. Let's have a look at the dataset."
      ],
      "metadata": {
        "id": "5iwuc9YJ-0kU"
      }
    },
    {
      "cell_type": "code",
      "source": [
        "%%R\n",
        "dat"
      ],
      "metadata": {
        "colab": {
          "base_uri": "https://localhost:8080/"
        },
        "id": "yCWSec2F_lIe",
        "outputId": "d92044a1-9419-4f69-cdd5-c484b14f4616"
      },
      "execution_count": null,
      "outputs": [
        {
          "output_type": "stream",
          "name": "stdout",
          "text": [
            "# A tibble: 384 × 18\n",
            "   study_id outcome   age sx     visit_date visit_time    hr   sbp    rr   scr\n",
            "      <dbl>   <dbl> <dbl> <chr>  <date>     <time>     <dbl> <dbl> <dbl> <dbl>\n",
            " 1      244       1  78.3 male   2020-01-31 13:12:31    84.4  96.1  17.6  87.1\n",
            " 2      199       1  86.8 female 2020-03-05 16:07:02    56.4  97.7  15.6  86.0\n",
            " 3      271       1  68.2 male   2020-05-31 00:00:00    95.3  92.5  21.5  74.9\n",
            " 4      101       0  77.6 male   2020-02-14 10:29:08    88.4 135.   15.3  91.3\n",
            " 5      261       1  72.7 male   2020-02-15 00:34:27    58.1 108.   12.3  80.8\n",
            " 6      321       1  52.4 female 2020-05-23 16:02:02    65.7  95.3  14.4  98.5\n",
            " 7      171       0  56.2 male   2020-04-30 01:16:08    88.3  76.3  24.7  96.7\n",
            " 8       70       0  70.4 female 2020-02-17 14:39:47    73.5 114.   24.2  95.2\n",
            " 9       40       1  60.2 female 2020-04-14 18:51:32    71.0 118.   23.2  84.8\n",
            "10       45       0  39.3 male   2020-03-21 13:00:18    80.6  89.6  16.0  85.7\n",
            "# … with 374 more rows, and 8 more variables: white_blood_cell_count <dbl>,\n",
            "#   oncology <dbl>, obstetrics <dbl>, neurology <dbl>, nephrology <dbl>,\n",
            "#   internal_medicine <dbl>, cardiology <dbl>, hematology <dbl>\n"
          ]
        }
      ]
    },
    {
      "cell_type": "markdown",
      "source": [
        "As we have imported the data into an tibble, R only returns the first ten rows (instead of all 384) and specifies the class of each column beneath the column name (chr, dbl, etc.). \n",
        "\n",
        "To get a readable overview, and depending on your screen width, some columns may be removed from the  output."
      ],
      "metadata": {
        "id": "88vAWWw6_tbo"
      }
    },
    {
      "cell_type": "markdown",
      "source": [
        "This dataset consists out of four data types:\n",
        "- demographic\n",
        "  - age (numeric)\n",
        "  - sex (categorical), 0 = female, 1 = male\n",
        "- hospital visit\n",
        "  - date of visit (date)\n",
        "  - time of visit (time)\n",
        "  - department (categorical, X values)\n",
        "- vital\n",
        "  - heart rate (hr), (numeric)\n",
        "  - systolic blood pressure (sbp) (numeric)\n",
        "  - diastolic blood pressure\n",
        "  - respiratory rate (rr) (numeric)\n",
        "- laboratory\n",
        "  - serum creatinine (scr)\n",
        "  - white blood cell count (wbc)"
      ],
      "metadata": {
        "id": "NOEy-vSqD28e"
      }
    },
    {
      "cell_type": "markdown",
      "source": [
        "Take a look at the dataset for a few second, do you notice some errors? Is this a tidy dataset?\n",
        "\n",
        "It looks like there is a typo. The fourth column should be 'sex' instead of 'sx'. We can use the `rename` function from the `dplyr` package"
      ],
      "metadata": {
        "id": "Q1oaEZ0HAeJ1"
      }
    },
    {
      "cell_type": "code",
      "source": [
        "%%R\n",
        "dat <- dat %>%\n",
        "  rename(sex = sx)"
      ],
      "metadata": {
        "id": "ZuWzd13JA45u"
      },
      "execution_count": null,
      "outputs": []
    },
    {
      "cell_type": "markdown",
      "source": [
        "Did it work? Run the next chunk"
      ],
      "metadata": {
        "id": "3xj3CCnOBB3X"
      }
    },
    {
      "cell_type": "code",
      "source": [
        "%%R\n",
        "dat"
      ],
      "metadata": {
        "colab": {
          "base_uri": "https://localhost:8080/"
        },
        "id": "irVjWSf5A-fT",
        "outputId": "b026964e-ccc1-4ca6-8e38-c3a346bf261b"
      },
      "execution_count": null,
      "outputs": [
        {
          "output_type": "stream",
          "name": "stdout",
          "text": [
            "# A tibble: 384 × 18\n",
            "   study_id outcome   age sex    visit_date visit_time    hr   sbp    rr   scr\n",
            "      <dbl>   <dbl> <dbl> <chr>  <date>     <time>     <dbl> <dbl> <dbl> <dbl>\n",
            " 1      244       1  78.3 male   2020-01-31 13:12:31    84.4  96.1  17.6  87.1\n",
            " 2      199       1  86.8 female 2020-03-05 16:07:02    56.4  97.7  15.6  86.0\n",
            " 3      271       1  68.2 male   2020-05-31 00:00:00    95.3  92.5  21.5  74.9\n",
            " 4      101       0  77.6 male   2020-02-14 10:29:08    88.4 135.   15.3  91.3\n",
            " 5      261       1  72.7 male   2020-02-15 00:34:27    58.1 108.   12.3  80.8\n",
            " 6      321       1  52.4 female 2020-05-23 16:02:02    65.7  95.3  14.4  98.5\n",
            " 7      171       0  56.2 male   2020-04-30 01:16:08    88.3  76.3  24.7  96.7\n",
            " 8       70       0  70.4 female 2020-02-17 14:39:47    73.5 114.   24.2  95.2\n",
            " 9       40       1  60.2 female 2020-04-14 18:51:32    71.0 118.   23.2  84.8\n",
            "10       45       0  39.3 male   2020-03-21 13:00:18    80.6  89.6  16.0  85.7\n",
            "# … with 374 more rows, and 8 more variables: white_blood_cell_count <dbl>,\n",
            "#   oncology <dbl>, obstetrics <dbl>, neurology <dbl>, nephrology <dbl>,\n",
            "#   internal_medicine <dbl>, cardiology <dbl>, hematology <dbl>\n"
          ]
        }
      ]
    },
    {
      "cell_type": "markdown",
      "source": [
        "Bravo! \n",
        "I always find long column names annoying.. can you change 'white_blood_cell_count' to 'wbc'? Double click on the chunk below and write your code. Make sure to not dletee the '%%R', otherwise your code will not run! "
      ],
      "metadata": {
        "id": "gxJ_TlaJBFWN"
      }
    },
    {
      "cell_type": "code",
      "source": [
        "%%R\n",
        "YOUR R CODE HERE"
      ],
      "metadata": {
        "id": "iMDGxJbXFpbo"
      },
      "execution_count": null,
      "outputs": []
    },
    {
      "cell_type": "code",
      "source": [
        "#@title\n",
        "%%R\n",
        "dat <- dat %>%\n",
        "  rename(wbc = white_blood_cell_count)"
      ],
      "metadata": {
        "id": "RLaoQzieBUMO",
        "cellView": "form"
      },
      "execution_count": null,
      "outputs": []
    },
    {
      "cell_type": "markdown",
      "source": [
        "Grazie mille! The study_ids are not in order.. Patients can visits the hospital multiple times within one year. We can sort on multiple columns with the `arrange` command."
      ],
      "metadata": {
        "id": "P6Lw9CLMB6FO"
      }
    },
    {
      "cell_type": "code",
      "source": [
        "%%R\n",
        "dat <- dat %>%\n",
        "  arrange(study_id, visit_date, visit_time)"
      ],
      "metadata": {
        "id": "eoRCmPn8F9cQ"
      },
      "execution_count": null,
      "outputs": []
    },
    {
      "cell_type": "code",
      "source": [
        "%%R\n",
        "dat"
      ],
      "metadata": {
        "colab": {
          "base_uri": "https://localhost:8080/"
        },
        "id": "FjAYVHU_GDZE",
        "outputId": "363035d0-3205-425b-ead8-fc6b02960cfd"
      },
      "execution_count": null,
      "outputs": [
        {
          "output_type": "stream",
          "name": "stdout",
          "text": [
            "# A tibble: 384 × 18\n",
            "   study_id outcome   age sex    visit_date visit_time    hr   sbp    rr   scr\n",
            "      <dbl>   <dbl> <dbl> <chr>  <date>     <time>     <dbl> <dbl> <dbl> <dbl>\n",
            " 1        1       0  80.1 male   2020-03-23 03:05:38    76.1 115.   20.5  88.8\n",
            " 2        2       1  51.2 male   2020-02-23 03:58:26    75.9 116.   18.8  92.0\n",
            " 3        3       1  65.1 male   2020-03-13 05:02:20    74.7 150    20.6  72.8\n",
            " 4        3       0  65.1 male   2020-04-21 22:15:30    74.7 150    20.6  72.8\n",
            " 5        4       1  69.1 male   2020-02-16 19:37:07    86.3 108.   18.0  72.3\n",
            " 6        5       1  65.7 male   2020-04-02 11:40:15    96.5 137.   14.4  78.4\n",
            " 7        6       1  58.1 male   2020-03-14 09:36:20    87.5 109.   19.6  93.8\n",
            " 8        9       1  89.8 female 2020-01-04 23:13:18    85.0 116.   18.2  84.9\n",
            " 9        9       0  89.8 male   2020-05-23 06:30:42    85.0 116.   18.2  84.9\n",
            "10       10       0  58.7 male   2020-01-05 08:44:38    71.6  87.5  17.9  90.6\n",
            "# … with 374 more rows, and 8 more variables: wbc <dbl>, oncology <dbl>,\n",
            "#   obstetrics <dbl>, neurology <dbl>, nephrology <dbl>,\n",
            "#   internal_medicine <dbl>, cardiology <dbl>, hematology <dbl>\n"
          ]
        }
      ]
    },
    {
      "cell_type": "markdown",
      "source": [
        "FIX THE STUDY IDs"
      ],
      "metadata": {
        "id": "OCRKC3w1GVWp"
      }
    },
    {
      "cell_type": "markdown",
      "source": [
        "### 2.2 Tidy"
      ],
      "metadata": {
        "id": "lP2jLrke_Pnb"
      }
    },
    {
      "cell_type": "markdown",
      "source": [
        "Let's have a look at the department columns. We can use the `select` command to make a selection without assigning it to the `dat` object. There are multiple options to get the same result, run the following chunks"
      ],
      "metadata": {
        "id": "WAMa7Ebc_rFa"
      }
    },
    {
      "cell_type": "code",
      "source": [
        "%%R\n",
        "dat %>% \n",
        "  select(study_id, oncology, obstetrics, neurology, nephrology, \n",
        "         internal_medicine, cardiology, hematology)"
      ],
      "metadata": {
        "colab": {
          "base_uri": "https://localhost:8080/"
        },
        "id": "w2nbjF0r_MD_",
        "outputId": "d195ff4e-243e-45bd-9827-fd99fe1860b5"
      },
      "execution_count": null,
      "outputs": [
        {
          "output_type": "stream",
          "name": "stdout",
          "text": [
            "# A tibble: 384 × 8\n",
            "   study_id oncology obstetrics neurology nephrology internal_medici… cardiology\n",
            "      <dbl>    <dbl>      <dbl>     <dbl>      <dbl>            <dbl>      <dbl>\n",
            " 1      244        1         NA        NA         NA               NA         NA\n",
            " 2      199       NA          1        NA         NA               NA         NA\n",
            " 3      271       NA          1        NA         NA               NA         NA\n",
            " 4      101       NA         NA         1         NA               NA         NA\n",
            " 5      261       NA         NA        NA          1               NA         NA\n",
            " 6      321       NA          1        NA         NA               NA         NA\n",
            " 7      171       NA         NA        NA         NA                1         NA\n",
            " 8       70       NA         NA        NA          1               NA         NA\n",
            " 9       40       NA         NA         1         NA               NA         NA\n",
            "10       45       NA         NA        NA         NA               NA          1\n",
            "# … with 374 more rows, and 1 more variable: hematology <dbl>\n"
          ]
        }
      ]
    },
    {
      "cell_type": "code",
      "source": [
        "%%R\n",
        "dat %>% \n",
        "  select(study_id, 12:18)"
      ],
      "metadata": {
        "colab": {
          "base_uri": "https://localhost:8080/"
        },
        "id": "jUK034NMDWy_",
        "outputId": "0053662c-750d-41e1-b33b-ff3619de1026"
      },
      "execution_count": null,
      "outputs": [
        {
          "output_type": "stream",
          "name": "stdout",
          "text": [
            "# A tibble: 384 × 8\n",
            "   study_id oncology obstetrics neurology nephrology internal_medici… cardiology\n",
            "      <dbl>    <dbl>      <dbl>     <dbl>      <dbl>            <dbl>      <dbl>\n",
            " 1      244        1         NA        NA         NA               NA         NA\n",
            " 2      199       NA          1        NA         NA               NA         NA\n",
            " 3      271       NA          1        NA         NA               NA         NA\n",
            " 4      101       NA         NA         1         NA               NA         NA\n",
            " 5      261       NA         NA        NA          1               NA         NA\n",
            " 6      321       NA          1        NA         NA               NA         NA\n",
            " 7      171       NA         NA        NA         NA                1         NA\n",
            " 8       70       NA         NA        NA          1               NA         NA\n",
            " 9       40       NA         NA         1         NA               NA         NA\n",
            "10       45       NA         NA        NA         NA               NA          1\n",
            "# … with 374 more rows, and 1 more variable: hematology <dbl>\n"
          ]
        }
      ]
    },
    {
      "cell_type": "markdown",
      "source": [
        "Phoe.. This does not look tidy. We can fix this but pivoting the data from a wide to a long format. Before we make any errors, create a new object called `departments` by selecting the `study_id` and all `department` columns."
      ],
      "metadata": {
        "id": "LEGiYbdKDbEt"
      }
    },
    {
      "cell_type": "code",
      "source": [
        "%%R\n",
        "YOUR R CODE HERE"
      ],
      "metadata": {
        "id": "3TmAniFeFm3k"
      },
      "execution_count": null,
      "outputs": []
    },
    {
      "cell_type": "code",
      "source": [
        "#@title\n",
        "%%R\n",
        "departments <- dat %>%\n",
        "  select(1, 12:18)"
      ],
      "metadata": {
        "id": "cQjMAQR4C6i2",
        "cellView": "form"
      },
      "execution_count": null,
      "outputs": []
    },
    {
      "cell_type": "code",
      "source": [
        "%%R\n",
        "departments %>% \n",
        "  pivot_longer(cols = -1, names_to = \"deparment\", values_to = \"value\")"
      ],
      "metadata": {
        "colab": {
          "base_uri": "https://localhost:8080/"
        },
        "id": "PO5qwPFmDmEJ",
        "outputId": "06f13aab-2228-4b63-b178-4fb2ab62a9b1"
      },
      "execution_count": null,
      "outputs": [
        {
          "output_type": "stream",
          "name": "stdout",
          "text": [
            "# A tibble: 2,688 × 3\n",
            "   study_id deparment         value\n",
            "      <dbl> <chr>             <dbl>\n",
            " 1      244 oncology              1\n",
            " 2      244 obstetrics           NA\n",
            " 3      244 neurology            NA\n",
            " 4      244 nephrology           NA\n",
            " 5      244 internal_medicine    NA\n",
            " 6      244 cardiology           NA\n",
            " 7      244 hematology           NA\n",
            " 8      199 oncology             NA\n",
            " 9      199 obstetrics            1\n",
            "10      199 neurology            NA\n",
            "# … with 2,678 more rows\n"
          ]
        }
      ]
    },
    {
      "cell_type": "code",
      "source": [
        "%%R\n",
        "departments %>% \n",
        "  pivot_longer(cols = -1, names_to = \"deparment\", values_to = \"value\") %>%\n",
        "  na.omit()"
      ],
      "metadata": {
        "colab": {
          "base_uri": "https://localhost:8080/"
        },
        "id": "DBWp-xYtGonX",
        "outputId": "dccb2c2d-1643-4a76-8a68-a370c980a8f5"
      },
      "execution_count": null,
      "outputs": [
        {
          "output_type": "stream",
          "name": "stdout",
          "text": [
            "# A tibble: 384 × 3\n",
            "   study_id deparment         value\n",
            "      <dbl> <chr>             <dbl>\n",
            " 1      244 oncology              1\n",
            " 2      199 obstetrics            1\n",
            " 3      271 obstetrics            1\n",
            " 4      101 neurology             1\n",
            " 5      261 nephrology            1\n",
            " 6      321 obstetrics            1\n",
            " 7      171 internal_medicine     1\n",
            " 8       70 nephrology            1\n",
            " 9       40 neurology             1\n",
            "10       45 cardiology            1\n",
            "# … with 374 more rows\n"
          ]
        }
      ]
    },
    {
      "cell_type": "code",
      "source": [
        "%%R\n",
        "dat <- dat %>%\n",
        "  pivot_longer(cols = 12:18, names_to = \"deparment\", values_to = \"value\") %>%\n",
        "  na.omit()"
      ],
      "metadata": {
        "id": "ADpP36puIZRx"
      },
      "execution_count": null,
      "outputs": []
    },
    {
      "cell_type": "code",
      "source": [
        "%%R\n",
        "dat"
      ],
      "metadata": {
        "colab": {
          "base_uri": "https://localhost:8080/"
        },
        "id": "cPBQtA9vIoOI",
        "outputId": "5b2a5af0-d207-4fd8-f9d8-ae03e7a751de"
      },
      "execution_count": null,
      "outputs": [
        {
          "output_type": "stream",
          "name": "stdout",
          "text": [
            "# A tibble: 384 × 13\n",
            "   study_id outcome   age sex    visit_date visit_time    hr   sbp    rr   scr\n",
            "      <dbl>   <dbl> <dbl> <chr>  <date>     <time>     <dbl> <dbl> <dbl> <dbl>\n",
            " 1        1       0  80.1 male   2020-03-23 03:05:38    76.1 115.   20.5  88.8\n",
            " 2        2       1  51.2 male   2020-02-23 03:58:26    75.9 116.   18.8  92.0\n",
            " 3        3       1  65.1 male   2020-03-13 05:02:20    74.7 150    20.6  72.8\n",
            " 4        3       0  65.1 male   2020-04-21 22:15:30    74.7 150    20.6  72.8\n",
            " 5        4       1  69.1 male   2020-02-16 19:37:07    86.3 108.   18.0  72.3\n",
            " 6        5       1  65.7 male   2020-04-02 11:40:15    96.5 137.   14.4  78.4\n",
            " 7        6       1  58.1 male   2020-03-14 09:36:20    87.5 109.   19.6  93.8\n",
            " 8        9       1  89.8 female 2020-01-04 23:13:18    85.0 116.   18.2  84.9\n",
            " 9        9       0  89.8 male   2020-05-23 06:30:42    85.0 116.   18.2  84.9\n",
            "10       10       0  58.7 male   2020-01-05 08:44:38    71.6  87.5  17.9  90.6\n",
            "# … with 374 more rows, and 3 more variables: wbc <dbl>, deparment <chr>,\n",
            "#   value <dbl>\n"
          ]
        }
      ]
    },
    {
      "cell_type": "code",
      "source": [
        "%%R\n",
        "dat <- dat %>%\n",
        "  select(-value)"
      ],
      "metadata": {
        "id": "CC0efQj4IonF"
      },
      "execution_count": null,
      "outputs": []
    },
    {
      "cell_type": "code",
      "source": [
        "%%R\n",
        "dat"
      ],
      "metadata": {
        "colab": {
          "base_uri": "https://localhost:8080/"
        },
        "id": "47EebgoHIvn9",
        "outputId": "9c99acd4-998b-4127-8e96-6213e3345e10"
      },
      "execution_count": null,
      "outputs": [
        {
          "output_type": "stream",
          "name": "stdout",
          "text": [
            "# A tibble: 384 × 12\n",
            "   study_id outcome   age sex    visit_date visit_time    hr   sbp    rr   scr\n",
            "      <dbl>   <dbl> <dbl> <chr>  <date>     <time>     <dbl> <dbl> <dbl> <dbl>\n",
            " 1        1       0  80.1 male   2020-03-23 03:05:38    76.1 115.   20.5  88.8\n",
            " 2        2       1  51.2 male   2020-02-23 03:58:26    75.9 116.   18.8  92.0\n",
            " 3        3       1  65.1 male   2020-03-13 05:02:20    74.7 150    20.6  72.8\n",
            " 4        3       0  65.1 male   2020-04-21 22:15:30    74.7 150    20.6  72.8\n",
            " 5        4       1  69.1 male   2020-02-16 19:37:07    86.3 108.   18.0  72.3\n",
            " 6        5       1  65.7 male   2020-04-02 11:40:15    96.5 137.   14.4  78.4\n",
            " 7        6       1  58.1 male   2020-03-14 09:36:20    87.5 109.   19.6  93.8\n",
            " 8        9       1  89.8 female 2020-01-04 23:13:18    85.0 116.   18.2  84.9\n",
            " 9        9       0  89.8 male   2020-05-23 06:30:42    85.0 116.   18.2  84.9\n",
            "10       10       0  58.7 male   2020-01-05 08:44:38    71.6  87.5  17.9  90.6\n",
            "# … with 374 more rows, and 2 more variables: wbc <dbl>, deparment <chr>\n"
          ]
        }
      ]
    },
    {
      "cell_type": "markdown",
      "source": [
        "### 2.3 Transform\n",
        "Looking at `study_id` 9, the age for this person is the same for both visits. We can round all values in this column with the `mutate` command."
      ],
      "metadata": {
        "id": "eu3dYtW-I2ek"
      }
    },
    {
      "cell_type": "code",
      "source": [
        "%%R\n",
        "dat <- dat %>%\n",
        "  mutate(age = round(age))"
      ],
      "metadata": {
        "id": "sh73cu7JIv6C"
      },
      "execution_count": null,
      "outputs": []
    },
    {
      "cell_type": "code",
      "source": [
        "%%R\n",
        "dat"
      ],
      "metadata": {
        "colab": {
          "base_uri": "https://localhost:8080/"
        },
        "id": "ve1u6lTtJboF",
        "outputId": "c53a7c75-5991-4a59-8a62-45fac19a5175"
      },
      "execution_count": null,
      "outputs": [
        {
          "output_type": "stream",
          "name": "stdout",
          "text": [
            "# A tibble: 384 × 12\n",
            "   study_id outcome   age sex    visit_date visit_time    hr   sbp    rr   scr\n",
            "      <dbl>   <dbl> <dbl> <chr>  <date>     <time>     <dbl> <dbl> <dbl> <dbl>\n",
            " 1        1       0    80 male   2020-03-23 03:05:38    76.1 115.   20.5  88.8\n",
            " 2        2       1    51 male   2020-02-23 03:58:26    75.9 116.   18.8  92.0\n",
            " 3        3       1    65 male   2020-03-13 05:02:20    74.7 150    20.6  72.8\n",
            " 4        3       0    65 male   2020-04-21 22:15:30    74.7 150    20.6  72.8\n",
            " 5        4       1    69 male   2020-02-16 19:37:07    86.3 108.   18.0  72.3\n",
            " 6        5       1    66 male   2020-04-02 11:40:15    96.5 137.   14.4  78.4\n",
            " 7        6       1    58 male   2020-03-14 09:36:20    87.5 109.   19.6  93.8\n",
            " 8        9       1    90 female 2020-01-04 23:13:18    85.0 116.   18.2  84.9\n",
            " 9        9       0    90 male   2020-05-23 06:30:42    85.0 116.   18.2  84.9\n",
            "10       10       0    59 male   2020-01-05 08:44:38    71.6  87.5  17.9  90.6\n",
            "# … with 374 more rows, and 2 more variables: wbc <dbl>, deparment <chr>\n"
          ]
        }
      ]
    },
    {
      "cell_type": "markdown",
      "source": [
        "Create two additional columns:\n",
        "- ratio sbp - dbp (`sbp_dbp_ratio`): sbp / dbp\n",
        "- mean arterial blood pressure (`map`): (2 x diastolic blood pressure + systolic blood pressure) / 3\n"
      ],
      "metadata": {
        "id": "3WkJGrxAJdul"
      }
    },
    {
      "cell_type": "code",
      "source": [
        "%%R\n",
        "YOUR CODE HERE"
      ],
      "metadata": {
        "id": "tXvaggVZJdEI"
      },
      "execution_count": null,
      "outputs": []
    },
    {
      "cell_type": "code",
      "source": [
        "#@title\n",
        "%%R\n",
        "dat <- dat %>%\n",
        "  mutate(sbp_dbp_ratio = sbp / dbp\n",
        "         map = (2 x dbp + sbp) / 3)"
      ],
      "metadata": {
        "id": "DRh26-GMJcTB"
      },
      "execution_count": null,
      "outputs": []
    },
    {
      "cell_type": "markdown",
      "source": [
        "## 2.4 Visualise\n"
      ],
      "metadata": {
        "id": "V_nCKymkNHwX"
      }
    },
    {
      "cell_type": "code",
      "source": [
        ""
      ],
      "metadata": {
        "id": "Vibk3kZUNHXo"
      },
      "execution_count": null,
      "outputs": []
    }
  ]
}