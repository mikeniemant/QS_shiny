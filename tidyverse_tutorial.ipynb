{
  "nbformat": 4,
  "nbformat_minor": 0,
  "metadata": {
    "colab": {
      "name": "tidyverse_tutorial.ipynb",
      "provenance": [],
      "collapsed_sections": [],
      "authorship_tag": "ABX9TyPEF/+hx4G7DyJrnoIJN5w0",
      "include_colab_link": true
    },
    "kernelspec": {
      "name": "python3",
      "display_name": "Python 3"
    },
    "language_info": {
      "name": "python"
    }
  },
  "cells": [
    {
      "cell_type": "markdown",
      "metadata": {
        "id": "view-in-github",
        "colab_type": "text"
      },
      "source": [
        "<a href=\"https://colab.research.google.com/github/mikeniemant/QS_shiny/blob/master/tidyverse_tutorial.ipynb\" target=\"_parent\"><img src=\"https://colab.research.google.com/assets/colab-badge.svg\" alt=\"Open In Colab\"/></a>"
      ]
    },
    {
      "cell_type": "markdown",
      "metadata": {
        "id": "NSDMp3ZnCVeo"
      },
      "source": [
        "# An introduction to Tidyverse\n",
        "\n",
        "In this tutorial, we will explore the first four steps of the Tidyverse data science workflow:\n",
        "1. Import\n",
        "2. Tidy\n",
        "3. Transform\n",
        "4. Visualise\n",
        "5. (Model)\n",
        "\n",
        "Today we will be working with an electronic health records (EHR) dataset. Don't worry about privacy related information, this is synthetic data based on summary statistics / values from the UMCU.\n",
        "\n",
        "We will use R in this Google Colab environment. Apart from Tidyverse, we will also go through the basics of how to work with this Google Colab environment. But before we can start, we first have to do two things:\n",
        "- initiliaze R\n",
        "- install tidyverse"
      ]
    },
    {
      "cell_type": "markdown",
      "metadata": {
        "id": "Klww9U6tCfJJ"
      },
      "source": [
        "## 1. Initialize work environment\n",
        "### 1.1. Initialize R\n",
        "To run R in this Python environment, we need to load the `rpy2` library. Either click on the play button or put your cursor in the chunk of code below, and press (Mac: CMD + ENTER, Windows: CTRL + ENTER)."
      ]
    },
    {
      "cell_type": "code",
      "metadata": {
        "id": "0WGMX69M_pY9"
      },
      "source": [
        "%load_ext rpy2.ipython"
      ],
      "execution_count": null,
      "outputs": []
    },
    {
      "cell_type": "markdown",
      "source": [
        "Run the following command to test whether R code is executed."
      ],
      "metadata": {
        "id": "OkPTBkJaxMkG"
      }
    },
    {
      "cell_type": "code",
      "metadata": {
        "id": "EncMACWo_wce"
      },
      "source": [
        "%%R\n",
        "x <- seq(1,5)\n",
        "x"
      ],
      "execution_count": null,
      "outputs": []
    },
    {
      "cell_type": "markdown",
      "source": [
        "As you can see, Google Colab is instructed to run R code when the 'code chunk' (or 'code cell') starts with the following statement: `%%R`. If we remove this statement, it will execute Python code.\n",
        "\n",
        "Feel free to add more cells (either text or code) to this notebook, by using one of the following options:\n",
        "- hover your mouse either above or above a chunk, and click on 'code' or 'text'\n",
        "- In the menu bar, blick on 'Insert', and then on 'Code cell' / 'Text cell'\n",
        "\n",
        "Correct me if I am wrong, but this notebook is automatically stored on your Google Drive."
      ],
      "metadata": {
        "id": "NMyMpwMj5TFm"
      }
    },
    {
      "cell_type": "markdown",
      "source": [
        "### 1.2 Install Tidyverse\n",
        "Google Colab allows us to install our own packages. Normally it takes quite a while before the complete `tidyverse` meta package is installed, apparently Colab has it already pre-installed somewhere. Lucky us!"
      ],
      "metadata": {
        "id": "xBBAGkkx9rMW"
      }
    },
    {
      "cell_type": "code",
      "metadata": {
        "id": "TFdIIRpf_0sr"
      },
      "source": [
        "%%R\n",
        "install.packages(\"tidyverse\")"
      ],
      "execution_count": null,
      "outputs": []
    },
    {
      "cell_type": "markdown",
      "source": [
        "After a cell is run, the environment is updated. You can remove the output of a cell by right-clicking on the output and select `remove output`. Try removing the installation output above."
      ],
      "metadata": {
        "id": "ui1ngRiSWwSE"
      }
    },
    {
      "cell_type": "markdown",
      "metadata": {
        "id": "5NwIdz99B9fJ"
      },
      "source": [
        "Import the `tidyverse` package and test it by running the following chunk."
      ]
    },
    {
      "cell_type": "code",
      "metadata": {
        "id": "mplYVuD5_-zn"
      },
      "source": [
        "%%R\n",
        "library(tidyverse)\n",
        "mtcars %>% \n",
        "  nrow()"
      ],
      "execution_count": null,
      "outputs": []
    },
    {
      "cell_type": "markdown",
      "source": [
        "Did you get `32` as output? Perfetto!"
      ],
      "metadata": {
        "id": "aOJjowYp-Z4x"
      }
    },
    {
      "cell_type": "markdown",
      "source": [
        "## 2. Tidyverse data science workflow\n",
        "### 2.1 Import dataset\n",
        "Now we will start importing the EHR dataset from a Github repository I created: https://github.com/mikeniemant/ehr_tutorial.\n",
        "\n",
        "First, have a look at the two .csv files in the repo:\n",
        "- ehr.csv: this is the dataset\n",
        "- data_dic.csv: this is dictionary with the description of each variable"
      ],
      "metadata": {
        "id": "ZAfp_kWW4tv3"
      }
    },
    {
      "cell_type": "markdown",
      "source": [
        "We can directly download the EHR data from the Github repo with the `read_csv` function from the `readr` package."
      ],
      "metadata": {
        "id": "1i2Z2gLQ8lXa"
      }
    },
    {
      "cell_type": "code",
      "source": [
        "%%R\n",
        "dat <- read_csv(\"https://github.com/mikeniemant/ehr_tutorial/raw/main/ehr.csv\")"
      ],
      "metadata": {
        "id": "2RVObroW4suB"
      },
      "execution_count": null,
      "outputs": []
    },
    {
      "cell_type": "markdown",
      "source": [
        "The `read_csv` automatically assigns a class to each column. Let's have a look at the dataset."
      ],
      "metadata": {
        "id": "5iwuc9YJ-0kU"
      }
    },
    {
      "cell_type": "code",
      "source": [
        "%%R\n",
        "dat"
      ],
      "metadata": {
        "id": "yCWSec2F_lIe"
      },
      "execution_count": null,
      "outputs": []
    },
    {
      "cell_type": "markdown",
      "source": [
        "As we have imported the data into a `tibble`, R only returns the first ten rows (instead of all 384) and specifies the class of each column under the column name (`chr`, `dbl`, etc.). \n",
        "\n",
        "To get a readable overview, and depending on your screen width, some columns may be removed from the  output."
      ],
      "metadata": {
        "id": "88vAWWw6_tbo"
      }
    },
    {
      "cell_type": "markdown",
      "source": [
        "This dataset consists out of four data types:\n",
        "- demographic\n",
        "  - age\n",
        "  - sex, 0 = female, 1 = male\n",
        "- hospital visit\n",
        "  - date of visit\n",
        "  - time of visit\n",
        "  - department\n",
        "- vital\n",
        "  - heart rate (hr)\n",
        "  - systolic blood pressure (sbp)\n",
        "  - diastolic blood pressure (dbp)\n",
        "  - respiratory rate (rr)\n",
        "- laboratory\n",
        "  - serum creatinine (scr)\n",
        "  - white blood cell count (wbc)"
      ],
      "metadata": {
        "id": "NOEy-vSqD28e"
      }
    },
    {
      "cell_type": "markdown",
      "source": [
        "Take a look at the dataset for a few second, do you notice some errors? Does the `dat` object have a 'tidy' data structure?\n",
        "\n",
        "It looks like there is a typo. The fourth column should be 'sex' instead of 'sx'. We can use the `rename` function from the `dplyr` package"
      ],
      "metadata": {
        "id": "Q1oaEZ0HAeJ1"
      }
    },
    {
      "cell_type": "code",
      "source": [
        "%%R\n",
        "dat <- dat %>%\n",
        "  rename(sex = sx)"
      ],
      "metadata": {
        "id": "ZuWzd13JA45u"
      },
      "execution_count": null,
      "outputs": []
    },
    {
      "cell_type": "markdown",
      "source": [
        "Did it work? Run the next chunk."
      ],
      "metadata": {
        "id": "3xj3CCnOBB3X"
      }
    },
    {
      "cell_type": "code",
      "source": [
        "%%R\n",
        "dat"
      ],
      "metadata": {
        "id": "irVjWSf5A-fT"
      },
      "execution_count": null,
      "outputs": []
    },
    {
      "cell_type": "markdown",
      "source": [
        "Bravo!\n",
        "\n",
        "I think long column names are quite annoying.. can you change 'white_blood_cell_count' to 'wbc'? Double click on the cell below and write your code. Make sure to not delete the '%%R' statement, otherwise your code will not run! You can check your answer by looking at the second cell and click on the `Show code` button. Attenzione! Make sure to not run this second cell after you have executed your own code."
      ],
      "metadata": {
        "id": "gxJ_TlaJBFWN"
      }
    },
    {
      "cell_type": "code",
      "source": [
        "%%R\n",
        "YOUR R CODE HERE"
      ],
      "metadata": {
        "id": "iMDGxJbXFpbo"
      },
      "execution_count": null,
      "outputs": []
    },
    {
      "cell_type": "code",
      "source": [
        "#@title\n",
        "%%R\n",
        "dat <- dat %>%\n",
        "  rename(wbc = white_blood_cell_count)"
      ],
      "metadata": {
        "id": "RLaoQzieBUMO",
        "cellView": "form"
      },
      "execution_count": null,
      "outputs": []
    },
    {
      "cell_type": "markdown",
      "source": [
        "Grazie mille! \n",
        "\n",
        "The study_ids are not in order.. Patients can visit the hospital multiple times within one year. We can sort on multiple columns with the `arrange` command."
      ],
      "metadata": {
        "id": "P6Lw9CLMB6FO"
      }
    },
    {
      "cell_type": "code",
      "source": [
        "%%R\n",
        "dat <- dat %>%\n",
        "  arrange(study_id, visit_date, visit_time)"
      ],
      "metadata": {
        "id": "eoRCmPn8F9cQ"
      },
      "execution_count": null,
      "outputs": []
    },
    {
      "cell_type": "code",
      "source": [
        "%%R\n",
        "dat"
      ],
      "metadata": {
        "id": "FjAYVHU_GDZE"
      },
      "execution_count": null,
      "outputs": []
    },
    {
      "cell_type": "markdown",
      "source": [
        "That looks a lot better! Sei fantastico!"
      ],
      "metadata": {
        "id": "OCRKC3w1GVWp"
      }
    },
    {
      "cell_type": "markdown",
      "source": [
        "### 2.2 Tidy"
      ],
      "metadata": {
        "id": "lP2jLrke_Pnb"
      }
    },
    {
      "cell_type": "markdown",
      "source": [
        "Let's have a look at the department columns. We can use the `select` command to make a selection without assigning it to the `dat` object. There are multiple options to get the same result, run the following chunks"
      ],
      "metadata": {
        "id": "WAMa7Ebc_rFa"
      }
    },
    {
      "cell_type": "code",
      "source": [
        "%%R\n",
        "dat %>% \n",
        "  select(study_id, oncology, obstetrics, neurology, nephrology, \n",
        "         internal_medicine, cardiology, hematology)"
      ],
      "metadata": {
        "id": "w2nbjF0r_MD_"
      },
      "execution_count": null,
      "outputs": []
    },
    {
      "cell_type": "code",
      "source": [
        "%%R\n",
        "dat %>% \n",
        "  select(study_id, 13:19)"
      ],
      "metadata": {
        "id": "jUK034NMDWy_"
      },
      "execution_count": null,
      "outputs": []
    },
    {
      "cell_type": "markdown",
      "source": [
        "Phoe.. This does not look tidy. We can fix this by pivoting the data from a wide to a long format. Before we make any errors, create a new object called `departments` by selecting the `study_id`, `visit_date`, `visit_time` and all `department` columns."
      ],
      "metadata": {
        "id": "LEGiYbdKDbEt"
      }
    },
    {
      "cell_type": "code",
      "source": [
        "%%R\n",
        "YOUR R CODE HERE"
      ],
      "metadata": {
        "id": "3TmAniFeFm3k"
      },
      "execution_count": null,
      "outputs": []
    },
    {
      "cell_type": "code",
      "source": [
        "#@title\n",
        "%%R\n",
        "departments <- dat %>%\n",
        "  select(study_id, visit_date, visit_time, 13:19)"
      ],
      "metadata": {
        "id": "cQjMAQR4C6i2",
        "cellView": "form"
      },
      "execution_count": null,
      "outputs": []
    },
    {
      "cell_type": "markdown",
      "source": [
        "Run the following code to pivot the data. As you can see, we have to select the columns that we want to pivot OR we can select the columns we do not want to pivot"
      ],
      "metadata": {
        "id": "orn7vLZvcHTl"
      }
    },
    {
      "cell_type": "code",
      "source": [
        "%%R\n",
        "departments %>% \n",
        "  pivot_longer(cols = -c(study_id, visit_date, visit_time), names_to = \"department\", values_to = \"value\")"
      ],
      "metadata": {
        "id": "PO5qwPFmDmEJ"
      },
      "execution_count": null,
      "outputs": []
    },
    {
      "cell_type": "code",
      "source": [
        "%%R\n",
        "departments %>% \n",
        "  pivot_longer(cols = 4:10, names_to = \"department\", values_to = \"value\")"
      ],
      "metadata": {
        "id": "XucqTwq1cW3U"
      },
      "execution_count": null,
      "outputs": []
    },
    {
      "cell_type": "markdown",
      "source": [
        "As expected, also all `NA` values are pivoted.. We can remove them with the `na.omit` function."
      ],
      "metadata": {
        "id": "hCSeNCHSbuBV"
      }
    },
    {
      "cell_type": "code",
      "source": [
        "%%R\n",
        "departments %>% \n",
        "  pivot_longer(cols = 4:10, names_to = \"department\", values_to = \"value\") %>%\n",
        "  na.omit()"
      ],
      "metadata": {
        "id": "DBWp-xYtGonX"
      },
      "execution_count": null,
      "outputs": []
    },
    {
      "cell_type": "markdown",
      "source": [
        "Now that we have our cleaned `department` column, we can `left_join` this tibble to our main object (`dat`), by first removing the department columns.\n",
        "\n"
      ],
      "metadata": {
        "id": "PqI_XSq8cocA"
      }
    },
    {
      "cell_type": "code",
      "source": [
        "%%R\n",
        "departments %>% \n",
        "              pivot_longer(cols = 4:10, names_to = \"department\", values_to = \"value\") %>%\n",
        "              na.omit()"
      ],
      "metadata": {
        "id": "-jwOwMBGdMxC"
      },
      "execution_count": null,
      "outputs": []
    },
    {
      "cell_type": "code",
      "source": [
        "%%R\n",
        "departments %>% \n",
        "            pivot_longer(cols = 4:10, names_to = \"department\", values_to = \"value\") %>%\n",
        "            na.omit() %>% select(-value)"
      ],
      "metadata": {
        "id": "1RKv2weRdgKV"
      },
      "execution_count": null,
      "outputs": []
    },
    {
      "cell_type": "code",
      "source": [
        "%%R\n",
        "dat"
      ],
      "metadata": {
        "id": "gNsksXRsdwEE"
      },
      "execution_count": null,
      "outputs": []
    },
    {
      "cell_type": "code",
      "source": [
        "%%R\n",
        "dat <- dat %>%\n",
        "  select(-c(13:19)) %>%\n",
        "  left_join(departments %>% \n",
        "            pivot_longer(cols = 4:10, names_to = \"department\", values_to = \"value\") %>%\n",
        "            na.omit() %>%\n",
        "            select(-value),\n",
        "            by = c(\"study_id\", \"visit_date\", \"visit_time\"))"
      ],
      "metadata": {
        "id": "ADpP36puIZRx"
      },
      "execution_count": null,
      "outputs": []
    },
    {
      "cell_type": "code",
      "source": [
        "%%R\n",
        "dat"
      ],
      "metadata": {
        "id": "70wb_Xu5nwx9"
      },
      "execution_count": null,
      "outputs": []
    },
    {
      "cell_type": "markdown",
      "source": [
        "I confess, this is not the most elegant approach for this problem, but it is a good example of how you can combine multiple steps with TIdyverse."
      ],
      "metadata": {
        "id": "BR23guPgkTcH"
      }
    },
    {
      "cell_type": "markdown",
      "source": [
        "### 2.3 Transform\n",
        "In this section we will transform some variables and create some new features.\n",
        "\n",
        "Let's round the `age` colunmn."
      ],
      "metadata": {
        "id": "eu3dYtW-I2ek"
      }
    },
    {
      "cell_type": "code",
      "source": [
        "%%R\n",
        "dat <- dat %>%\n",
        "  mutate(age = round(age))"
      ],
      "metadata": {
        "id": "sh73cu7JIv6C"
      },
      "execution_count": null,
      "outputs": []
    },
    {
      "cell_type": "code",
      "source": [
        "%%R\n",
        "dat"
      ],
      "metadata": {
        "id": "ve1u6lTtJboF"
      },
      "execution_count": null,
      "outputs": []
    },
    {
      "cell_type": "markdown",
      "source": [
        "We can also do this for multiple columns in one go using functional programming with tidyverse."
      ],
      "metadata": {
        "id": "vSLSBXRKeuag"
      }
    },
    {
      "cell_type": "code",
      "source": [
        "%%R\n",
        "dat <- dat %>% mutate(across(c(\"hr\", \"sbp\", \"rr\", \"scr\", \"wbc\"), round))"
      ],
      "metadata": {
        "id": "t6bKoxhCetOO"
      },
      "execution_count": null,
      "outputs": []
    },
    {
      "cell_type": "markdown",
      "source": [
        "First, we tell R to transform the object with `mutate`. With `across` we specify that we would like to run a function over a selection of columns. \n",
        "\n",
        "In base R we would use the `sapply` function.\n",
        "\n",
        "`dat[, c(\"hr\", \"sbp\", \"rr\", \"scr\", \"wbc\")] <- sapply(dat[, c(\"hr\", \"sbp\", \"rr\", \"scr\", \"wbc\"), round)`\n",
        "\n",
        "What do you prefer? Base R or Tidyverse?"
      ],
      "metadata": {
        "id": "Db5x6efpfWN7"
      }
    },
    {
      "cell_type": "markdown",
      "source": [
        "Create two additional columns with the `mutate` function:\n",
        "- ratio sbp - dbp (`sbp_dbp_ratio`): sbp / dbp\n",
        "- mean arterial blood pressure (`map`): (2 x diastolic blood pressure + systolic blood pressure) / 3\n"
      ],
      "metadata": {
        "id": "3WkJGrxAJdul"
      }
    },
    {
      "cell_type": "code",
      "source": [
        "%%R\n",
        "YOUR CODE HERE"
      ],
      "metadata": {
        "id": "tXvaggVZJdEI"
      },
      "execution_count": null,
      "outputs": []
    },
    {
      "cell_type": "code",
      "source": [
        "#@title\n",
        "%%R\n",
        "dat <- dat %>%\n",
        "  mutate(sbp_dbp_ratio = sbp / dbp,\n",
        "         map = (2 * dbp + sbp) / 3)"
      ],
      "metadata": {
        "id": "DRh26-GMJcTB",
        "cellView": "form"
      },
      "execution_count": null,
      "outputs": []
    },
    {
      "cell_type": "markdown",
      "source": [
        "For our study, we do not want to focus on children, and also do not want to include pregnant ladies."
      ],
      "metadata": {
        "id": "SMYWhnmSzBMc"
      }
    },
    {
      "cell_type": "code",
      "source": [
        "%%R\n",
        "dat %>% count(department)"
      ],
      "metadata": {
        "id": "FnvsCDxpz-SS"
      },
      "execution_count": null,
      "outputs": []
    },
    {
      "cell_type": "code",
      "source": [
        "%%R\n",
        "dat %>% pull(age) %>% summary()"
      ],
      "metadata": {
        "id": "VsP5FTE_0WJe"
      },
      "execution_count": null,
      "outputs": []
    },
    {
      "cell_type": "markdown",
      "source": [
        "An example that is equivalent to the base R command `summary(dat$age)`. With the `pull` function, you can extract data as a `vector`, as compared to the `select` function, that returns a `tibble` object."
      ],
      "metadata": {
        "id": "TIFpo2li3Cvr"
      }
    },
    {
      "cell_type": "code",
      "source": [
        "%%R\n",
        "dat %>% pull(wbc) %>% head()"
      ],
      "metadata": {
        "id": "Hj38eOP73B_x"
      },
      "execution_count": null,
      "outputs": []
    },
    {
      "cell_type": "markdown",
      "source": [
        "With the `filter` function, we can remove all patients younger than 20 years old."
      ],
      "metadata": {
        "id": "geqSWGQRz_eG"
      }
    },
    {
      "cell_type": "code",
      "source": [
        "%%R\n",
        "dat <- dat %>%\n",
        "  filter(age >= 20)"
      ],
      "metadata": {
        "id": "HU394DWCzGQW"
      },
      "execution_count": null,
      "outputs": []
    },
    {
      "cell_type": "markdown",
      "source": [
        "We can disregard all pregnant patients by removing the `obstetrics` department."
      ],
      "metadata": {
        "id": "-3df_jvzzPPi"
      }
    },
    {
      "cell_type": "code",
      "source": [
        "%%R\n",
        "YOUR R CODE HERE"
      ],
      "metadata": {
        "id": "BLto2khhzkRn"
      },
      "execution_count": null,
      "outputs": []
    },
    {
      "cell_type": "code",
      "source": [
        "#@title\n",
        "%%R\n",
        "dat <- dat %>%\n",
        "  filter(department != \"obstetrics\")"
      ],
      "metadata": {
        "cellView": "form",
        "id": "GCmAcXyZzl4P"
      },
      "execution_count": null,
      "outputs": []
    },
    {
      "cell_type": "markdown",
      "source": [
        "## 2.4 Visualise\n"
      ],
      "metadata": {
        "id": "V_nCKymkNHwX"
      }
    },
    {
      "cell_type": "markdown",
      "source": [
        "What features are predictive for the `outcome`? \n",
        "First, we will compute some summary statistics, followed by some plots with the `ggplot2` Tidyverse package.\n",
        "\n"
      ],
      "metadata": {
        "id": "G16T66OroYUY"
      }
    },
    {
      "cell_type": "markdown",
      "source": [
        "Is `age` related with `outcome`? We can compute some summary statistics for each `outcome` level by using both the `group_by` and `summarize` functinos. Look at the example\n"
      ],
      "metadata": {
        "id": "yV2QsJIU0xjd"
      }
    },
    {
      "cell_type": "code",
      "source": [
        "%%R\n",
        "dat %>% \n",
        "  group_by(outcome) %>%\n",
        "  summarize(mean_age = mean(age))"
      ],
      "metadata": {
        "id": "KZD24TmQ0gel"
      },
      "execution_count": null,
      "outputs": []
    },
    {
      "cell_type": "code",
      "source": [
        "%%R\n",
        "ggplot(data = dat, mapping = aes(x = hr, y = sbp, colour = factor(outcome))) +\n",
        "  geom_point() +\n",
        "  labs(colour = \"Outcome\")"
      ],
      "metadata": {
        "id": "Vibk3kZUNHXo"
      },
      "execution_count": null,
      "outputs": []
    },
    {
      "cell_type": "markdown",
      "source": [
        "Instead of a scatter plot, we can also plot other graph types."
      ],
      "metadata": {
        "id": "SxBdRHtGu3HT"
      }
    },
    {
      "cell_type": "code",
      "source": [
        "%%R\n",
        "ggplot(data = dat, mapping = aes(x = age, fill = factor(outcome))) +\n",
        "  geom_density(alpha = 0.5) +\n",
        "  labs(colour = \"Outcome\")"
      ],
      "metadata": {
        "id": "CxQ9pmCpoDEm"
      },
      "execution_count": null,
      "outputs": []
    },
    {
      "cell_type": "markdown",
      "source": [
        "As you can see, plotting graphs with `ggplot2` always requires the standard format.\n",
        "We can go through each step line by line"
      ],
      "metadata": {
        "id": "PBXnnohTvQt8"
      }
    },
    {
      "cell_type": "code",
      "source": [
        "%%R\n",
        "ggplot(data = dat, mapping = aes(x = age, y = map))"
      ],
      "metadata": {
        "id": "LUOGl6Hdvv3s"
      },
      "execution_count": null,
      "outputs": []
    },
    {
      "cell_type": "markdown",
      "source": [
        "Above, we only specified the `data` and `mapping` arguments. `ggplot2` already reads the data and plots the canvas.\n",
        "\n",
        "By adding the geometric function `geom_point()` we will draw points on this canvas.\n",
        "\n",
        "Attenzione! With `ggplot2` we will have to use the `+` to combine multiple commands, instead of the pipe operator `%>%`."
      ],
      "metadata": {
        "id": "Pbz59rI-v0HH"
      }
    },
    {
      "cell_type": "code",
      "source": [
        "%%R\n",
        "ggplot(data = dat, mapping = aes(x = age, y = map)) +\n",
        "  geom_point()"
      ],
      "metadata": {
        "id": "a2JrkqGDvzeZ"
      },
      "execution_count": null,
      "outputs": []
    },
    {
      "cell_type": "markdown",
      "source": [
        "We can also draw some box plots if we bin the age variable. We can put the data into the ggplot function with the pipe operator, fancy!"
      ],
      "metadata": {
        "id": "OwsAOHw-wT0a"
      }
    },
    {
      "cell_type": "code",
      "source": [
        "%%R\n",
        "dat %>% \n",
        "  mutate(bin_age = cut(age, \n",
        "                       breaks = seq(min(age), max(age), by = 10),\n",
        "                       include.lowest = T)) %>%\n",
        "  ggplot(aes(x = bin_age, y = map)) +\n",
        "  geom_boxplot()"
      ],
      "metadata": {
        "id": "FA31qnXPvyNW"
      },
      "execution_count": null,
      "outputs": []
    },
    {
      "cell_type": "code",
      "source": [
        "%%R\n",
        "dat %>% \n",
        "  mutate(bin_age = cut(age, seq(min(age), max(age), by = 10))) %>% \n",
        "  select(1:2, age, bin_age)"
      ],
      "metadata": {
        "id": "EQ1Dp4SMwdop"
      },
      "execution_count": null,
      "outputs": []
    },
    {
      "cell_type": "code",
      "source": [
        "%%R\n",
        "min(dat$age)"
      ],
      "metadata": {
        "id": "zjqZEfP2ww7L"
      },
      "execution_count": null,
      "outputs": []
    },
    {
      "cell_type": "code",
      "source": [
        ""
      ],
      "metadata": {
        "id": "PIdM0JI2w9T9"
      },
      "execution_count": null,
      "outputs": []
    }
  ]
}